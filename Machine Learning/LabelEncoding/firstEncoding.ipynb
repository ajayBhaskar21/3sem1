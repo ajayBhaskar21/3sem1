{
 "cells": [
  {
   "cell_type": "code",
   "execution_count": 6,
   "id": "84d7b56f",
   "metadata": {},
   "outputs": [
    {
     "name": "stdout",
     "output_type": "stream",
     "text": [
      "      Name  Gender Country  Gender_cat  Country_cat\n",
      "0    Alice  Female     USA           0            2\n",
      "1      Bob    Male      UK           1            1\n",
      "2  Charlie    Male  Canada           1            0\n",
      "3    David    Male     USA           1            2\n",
      "4      Eve  Female      UK           0            1\n",
      "5  Jyoshna  Female     USA           0            2\n",
      "6   Soumya  Female     USA           0            2\n"
     ]
    }
   ],
   "source": [
    "import pandas as pd\n",
    "\n",
    "# Load the CSV file into a DataFrame\n",
    "df = pd.read_csv('data.csv')\n",
    "\n",
    "# Label Encoding (for ordinal categorical data)\n",
    "df['Gender'] = df['Gender'].astype('category')\n",
    "df['Gender_cat'] = df['Gender'].cat.codes\n",
    "\n",
    "# One-Hot Encoding (for nominal categorical data)\n",
    "#df = pd.get_dummies(df, columns=['Country'], prefix=['Country'])\n",
    "\n",
    "# this is ordinal categorical data\n",
    "df['Country'] = df['Country'].astype('category')\n",
    "df['Country_cat'] = df['Country'].cat.codes\n",
    "\n",
    "# Print the encoded DataFrame\n",
    "print(df)\n"
   ]
  },
  {
   "cell_type": "code",
   "execution_count": null,
   "id": "b80473ac",
   "metadata": {},
   "outputs": [],
   "source": []
  }
 ],
 "metadata": {
  "kernelspec": {
   "display_name": "Python 3 (ipykernel)",
   "language": "python",
   "name": "python3"
  },
  "language_info": {
   "codemirror_mode": {
    "name": "ipython",
    "version": 3
   },
   "file_extension": ".py",
   "mimetype": "text/x-python",
   "name": "python",
   "nbconvert_exporter": "python",
   "pygments_lexer": "ipython3",
   "version": "3.11.3"
  }
 },
 "nbformat": 4,
 "nbformat_minor": 5
}
